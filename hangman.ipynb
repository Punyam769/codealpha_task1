{
 "cells": [
  {
   "cell_type": "code",
   "execution_count": null,
   "id": "3e4fccc2-7a63-4292-8ab4-f58900faa413",
   "metadata": {},
   "outputs": [
    {
     "name": "stdout",
     "output_type": "stream",
     "text": [
      "Welcome to Hangman!\n",
      "Word to guess: ______\n",
      "Attempts left: 6\n"
     ]
    }
   ],
   "source": [
    "import random\n",
    "\n",
    "def choose_word():\n",
    "    words = ['narrative', 'theme', 'auteur', 'visual', 'bottle', 'swift', 'rocket', 'king','fantastic','grand','hotel','moon','city','golden','asteroid','dispatch','dog','delhi','critic','family','motion']\n",
    "    return random.choice(words)\n",
    "\n",
    "def hangman():\n",
    "    word = choose_word()\n",
    "    guessed_letters = []\n",
    "    attempts = 6  \n",
    "    while attempts > 0:\n",
    "        guessed_word = ''\n",
    "        for letter in word:\n",
    "            if letter in guessed_letters:\n",
    "                guessed_word += letter\n",
    "            else:\n",
    "                guessed_word += '_'\n",
    "        \n",
    "        if guessed_word == word:\n",
    "            print(f'Congratulations! You guessed the word: {word}')\n",
    "            break\n",
    "        \n",
    "        print(f'Word to guess: {guessed_word}')\n",
    "        print(f'Attempts left: {attempts}')\n",
    "        \n",
    "        guess = input('Guess a letter: ').lower()\n",
    "        \n",
    "        if guess in guessed_letters:\n",
    "            print('You already guessed that letter!')\n",
    "        elif guess in word:\n",
    "            guessed_letters.append(guess)\n",
    "            print('Good guess!')\n",
    "        else:\n",
    "            attempts -= 1\n",
    "            print('Oops! That letter is not in the word.')\n",
    "        \n",
    "        print('---------------------')\n",
    "    \n",
    "    if attempts == 0:\n",
    "        print(f'Sorry, you ran out of attempts! The word was: {word}')\n",
    "\n",
    "if __name__ == \"__main__\":\n",
    "    print(\"Welcome to Hangman!\")\n",
    "    hangman()\n"
   ]
  },
  {
   "cell_type": "code",
   "execution_count": null,
   "id": "3f3309c1-8e6b-4a94-a1f8-a225d63cab7f",
   "metadata": {},
   "outputs": [],
   "source": []
  }
 ],
 "metadata": {
  "kernelspec": {
   "display_name": "Python 3 (ipykernel)",
   "language": "python",
   "name": "python3"
  },
  "language_info": {
   "codemirror_mode": {
    "name": "ipython",
    "version": 3
   },
   "file_extension": ".py",
   "mimetype": "text/x-python",
   "name": "python",
   "nbconvert_exporter": "python",
   "pygments_lexer": "ipython3",
   "version": "3.12.4"
  }
 },
 "nbformat": 4,
 "nbformat_minor": 5
}
